{
  "nbformat": 4,
  "nbformat_minor": 0,
  "metadata": {
    "colab": {
      "provenance": [],
      "include_colab_link": true
    },
    "kernelspec": {
      "name": "python3",
      "display_name": "Python 3"
    },
    "language_info": {
      "name": "python"
    }
  },
  "cells": [
    {
      "cell_type": "markdown",
      "metadata": {
        "id": "view-in-github",
        "colab_type": "text"
      },
      "source": [
        "<a href=\"https://colab.research.google.com/github/Shorna-2019331049/Skill_Morph/blob/main/Assignment_5_Data_Preprocessing_and_Pipeline.ipynb\" target=\"_parent\"><img src=\"https://colab.research.google.com/assets/colab-badge.svg\" alt=\"Open In Colab\"/></a>"
      ]
    },
    {
      "cell_type": "code",
      "source": [
        "from google.colab import drive\n",
        "drive.mount('/content/drive')\n",
        "\n",
        "import warnings\n",
        "warnings.filterwarnings('ignore')"
      ],
      "metadata": {
        "colab": {
          "base_uri": "https://localhost:8080/"
        },
        "id": "dx8Xh8kMfKDh",
        "outputId": "f4f4bb2c-d68a-48b4-bf1a-451361f4ebd6"
      },
      "execution_count": 1,
      "outputs": [
        {
          "output_type": "stream",
          "name": "stdout",
          "text": [
            "Mounted at /content/drive\n"
          ]
        }
      ]
    },
    {
      "cell_type": "code",
      "execution_count": 2,
      "metadata": {
        "id": "kxzHrZ-S1J5-",
        "colab": {
          "base_uri": "https://localhost:8080/",
          "height": 178
        },
        "outputId": "44882083-8ce9-4864-e2ef-babcba27f335"
      },
      "outputs": [
        {
          "output_type": "stream",
          "name": "stdout",
          "text": [
            "Number of houses:  545\n",
            "Number of houses:  545\n"
          ]
        },
        {
          "output_type": "execute_result",
          "data": {
            "text/plain": [
              "      price  area  bedrooms  bathrooms  stories mainroad guestroom basement  \\\n",
              "0  13300000  7420         4          2        3      yes        no       no   \n",
              "1  12250000  8960         4          4        4      yes        no       no   \n",
              "2  12250000  9960         3          2        2      yes        no      yes   \n",
              "\n",
              "  hotwaterheating airconditioning  parking prefarea furnishingstatus  \n",
              "0              no             yes        2      yes        furnished  \n",
              "1              no             yes        3       no        furnished  \n",
              "2              no              no        2      yes   semi-furnished  "
            ],
            "text/html": [
              "\n",
              "  <div id=\"df-c120679b-8739-4a32-9b7a-4cd6c81df48b\" class=\"colab-df-container\">\n",
              "    <div>\n",
              "<style scoped>\n",
              "    .dataframe tbody tr th:only-of-type {\n",
              "        vertical-align: middle;\n",
              "    }\n",
              "\n",
              "    .dataframe tbody tr th {\n",
              "        vertical-align: top;\n",
              "    }\n",
              "\n",
              "    .dataframe thead th {\n",
              "        text-align: right;\n",
              "    }\n",
              "</style>\n",
              "<table border=\"1\" class=\"dataframe\">\n",
              "  <thead>\n",
              "    <tr style=\"text-align: right;\">\n",
              "      <th></th>\n",
              "      <th>price</th>\n",
              "      <th>area</th>\n",
              "      <th>bedrooms</th>\n",
              "      <th>bathrooms</th>\n",
              "      <th>stories</th>\n",
              "      <th>mainroad</th>\n",
              "      <th>guestroom</th>\n",
              "      <th>basement</th>\n",
              "      <th>hotwaterheating</th>\n",
              "      <th>airconditioning</th>\n",
              "      <th>parking</th>\n",
              "      <th>prefarea</th>\n",
              "      <th>furnishingstatus</th>\n",
              "    </tr>\n",
              "  </thead>\n",
              "  <tbody>\n",
              "    <tr>\n",
              "      <th>0</th>\n",
              "      <td>13300000</td>\n",
              "      <td>7420</td>\n",
              "      <td>4</td>\n",
              "      <td>2</td>\n",
              "      <td>3</td>\n",
              "      <td>yes</td>\n",
              "      <td>no</td>\n",
              "      <td>no</td>\n",
              "      <td>no</td>\n",
              "      <td>yes</td>\n",
              "      <td>2</td>\n",
              "      <td>yes</td>\n",
              "      <td>furnished</td>\n",
              "    </tr>\n",
              "    <tr>\n",
              "      <th>1</th>\n",
              "      <td>12250000</td>\n",
              "      <td>8960</td>\n",
              "      <td>4</td>\n",
              "      <td>4</td>\n",
              "      <td>4</td>\n",
              "      <td>yes</td>\n",
              "      <td>no</td>\n",
              "      <td>no</td>\n",
              "      <td>no</td>\n",
              "      <td>yes</td>\n",
              "      <td>3</td>\n",
              "      <td>no</td>\n",
              "      <td>furnished</td>\n",
              "    </tr>\n",
              "    <tr>\n",
              "      <th>2</th>\n",
              "      <td>12250000</td>\n",
              "      <td>9960</td>\n",
              "      <td>3</td>\n",
              "      <td>2</td>\n",
              "      <td>2</td>\n",
              "      <td>yes</td>\n",
              "      <td>no</td>\n",
              "      <td>yes</td>\n",
              "      <td>no</td>\n",
              "      <td>no</td>\n",
              "      <td>2</td>\n",
              "      <td>yes</td>\n",
              "      <td>semi-furnished</td>\n",
              "    </tr>\n",
              "  </tbody>\n",
              "</table>\n",
              "</div>\n",
              "    <div class=\"colab-df-buttons\">\n",
              "\n",
              "  <div class=\"colab-df-container\">\n",
              "    <button class=\"colab-df-convert\" onclick=\"convertToInteractive('df-c120679b-8739-4a32-9b7a-4cd6c81df48b')\"\n",
              "            title=\"Convert this dataframe to an interactive table.\"\n",
              "            style=\"display:none;\">\n",
              "\n",
              "  <svg xmlns=\"http://www.w3.org/2000/svg\" height=\"24px\" viewBox=\"0 -960 960 960\">\n",
              "    <path d=\"M120-120v-720h720v720H120Zm60-500h600v-160H180v160Zm220 220h160v-160H400v160Zm0 220h160v-160H400v160ZM180-400h160v-160H180v160Zm440 0h160v-160H620v160ZM180-180h160v-160H180v160Zm440 0h160v-160H620v160Z\"/>\n",
              "  </svg>\n",
              "    </button>\n",
              "\n",
              "  <style>\n",
              "    .colab-df-container {\n",
              "      display:flex;\n",
              "      gap: 12px;\n",
              "    }\n",
              "\n",
              "    .colab-df-convert {\n",
              "      background-color: #E8F0FE;\n",
              "      border: none;\n",
              "      border-radius: 50%;\n",
              "      cursor: pointer;\n",
              "      display: none;\n",
              "      fill: #1967D2;\n",
              "      height: 32px;\n",
              "      padding: 0 0 0 0;\n",
              "      width: 32px;\n",
              "    }\n",
              "\n",
              "    .colab-df-convert:hover {\n",
              "      background-color: #E2EBFA;\n",
              "      box-shadow: 0px 1px 2px rgba(60, 64, 67, 0.3), 0px 1px 3px 1px rgba(60, 64, 67, 0.15);\n",
              "      fill: #174EA6;\n",
              "    }\n",
              "\n",
              "    .colab-df-buttons div {\n",
              "      margin-bottom: 4px;\n",
              "    }\n",
              "\n",
              "    [theme=dark] .colab-df-convert {\n",
              "      background-color: #3B4455;\n",
              "      fill: #D2E3FC;\n",
              "    }\n",
              "\n",
              "    [theme=dark] .colab-df-convert:hover {\n",
              "      background-color: #434B5C;\n",
              "      box-shadow: 0px 1px 3px 1px rgba(0, 0, 0, 0.15);\n",
              "      filter: drop-shadow(0px 1px 2px rgba(0, 0, 0, 0.3));\n",
              "      fill: #FFFFFF;\n",
              "    }\n",
              "  </style>\n",
              "\n",
              "    <script>\n",
              "      const buttonEl =\n",
              "        document.querySelector('#df-c120679b-8739-4a32-9b7a-4cd6c81df48b button.colab-df-convert');\n",
              "      buttonEl.style.display =\n",
              "        google.colab.kernel.accessAllowed ? 'block' : 'none';\n",
              "\n",
              "      async function convertToInteractive(key) {\n",
              "        const element = document.querySelector('#df-c120679b-8739-4a32-9b7a-4cd6c81df48b');\n",
              "        const dataTable =\n",
              "          await google.colab.kernel.invokeFunction('convertToInteractive',\n",
              "                                                    [key], {});\n",
              "        if (!dataTable) return;\n",
              "\n",
              "        const docLinkHtml = 'Like what you see? Visit the ' +\n",
              "          '<a target=\"_blank\" href=https://colab.research.google.com/notebooks/data_table.ipynb>data table notebook</a>'\n",
              "          + ' to learn more about interactive tables.';\n",
              "        element.innerHTML = '';\n",
              "        dataTable['output_type'] = 'display_data';\n",
              "        await google.colab.output.renderOutput(dataTable, element);\n",
              "        const docLink = document.createElement('div');\n",
              "        docLink.innerHTML = docLinkHtml;\n",
              "        element.appendChild(docLink);\n",
              "      }\n",
              "    </script>\n",
              "  </div>\n",
              "\n",
              "\n",
              "    <div id=\"df-d77ee029-e5cf-4284-8137-b06c61737cff\">\n",
              "      <button class=\"colab-df-quickchart\" onclick=\"quickchart('df-d77ee029-e5cf-4284-8137-b06c61737cff')\"\n",
              "                title=\"Suggest charts\"\n",
              "                style=\"display:none;\">\n",
              "\n",
              "<svg xmlns=\"http://www.w3.org/2000/svg\" height=\"24px\"viewBox=\"0 0 24 24\"\n",
              "     width=\"24px\">\n",
              "    <g>\n",
              "        <path d=\"M19 3H5c-1.1 0-2 .9-2 2v14c0 1.1.9 2 2 2h14c1.1 0 2-.9 2-2V5c0-1.1-.9-2-2-2zM9 17H7v-7h2v7zm4 0h-2V7h2v10zm4 0h-2v-4h2v4z\"/>\n",
              "    </g>\n",
              "</svg>\n",
              "      </button>\n",
              "\n",
              "<style>\n",
              "  .colab-df-quickchart {\n",
              "      --bg-color: #E8F0FE;\n",
              "      --fill-color: #1967D2;\n",
              "      --hover-bg-color: #E2EBFA;\n",
              "      --hover-fill-color: #174EA6;\n",
              "      --disabled-fill-color: #AAA;\n",
              "      --disabled-bg-color: #DDD;\n",
              "  }\n",
              "\n",
              "  [theme=dark] .colab-df-quickchart {\n",
              "      --bg-color: #3B4455;\n",
              "      --fill-color: #D2E3FC;\n",
              "      --hover-bg-color: #434B5C;\n",
              "      --hover-fill-color: #FFFFFF;\n",
              "      --disabled-bg-color: #3B4455;\n",
              "      --disabled-fill-color: #666;\n",
              "  }\n",
              "\n",
              "  .colab-df-quickchart {\n",
              "    background-color: var(--bg-color);\n",
              "    border: none;\n",
              "    border-radius: 50%;\n",
              "    cursor: pointer;\n",
              "    display: none;\n",
              "    fill: var(--fill-color);\n",
              "    height: 32px;\n",
              "    padding: 0;\n",
              "    width: 32px;\n",
              "  }\n",
              "\n",
              "  .colab-df-quickchart:hover {\n",
              "    background-color: var(--hover-bg-color);\n",
              "    box-shadow: 0 1px 2px rgba(60, 64, 67, 0.3), 0 1px 3px 1px rgba(60, 64, 67, 0.15);\n",
              "    fill: var(--button-hover-fill-color);\n",
              "  }\n",
              "\n",
              "  .colab-df-quickchart-complete:disabled,\n",
              "  .colab-df-quickchart-complete:disabled:hover {\n",
              "    background-color: var(--disabled-bg-color);\n",
              "    fill: var(--disabled-fill-color);\n",
              "    box-shadow: none;\n",
              "  }\n",
              "\n",
              "  .colab-df-spinner {\n",
              "    border: 2px solid var(--fill-color);\n",
              "    border-color: transparent;\n",
              "    border-bottom-color: var(--fill-color);\n",
              "    animation:\n",
              "      spin 1s steps(1) infinite;\n",
              "  }\n",
              "\n",
              "  @keyframes spin {\n",
              "    0% {\n",
              "      border-color: transparent;\n",
              "      border-bottom-color: var(--fill-color);\n",
              "      border-left-color: var(--fill-color);\n",
              "    }\n",
              "    20% {\n",
              "      border-color: transparent;\n",
              "      border-left-color: var(--fill-color);\n",
              "      border-top-color: var(--fill-color);\n",
              "    }\n",
              "    30% {\n",
              "      border-color: transparent;\n",
              "      border-left-color: var(--fill-color);\n",
              "      border-top-color: var(--fill-color);\n",
              "      border-right-color: var(--fill-color);\n",
              "    }\n",
              "    40% {\n",
              "      border-color: transparent;\n",
              "      border-right-color: var(--fill-color);\n",
              "      border-top-color: var(--fill-color);\n",
              "    }\n",
              "    60% {\n",
              "      border-color: transparent;\n",
              "      border-right-color: var(--fill-color);\n",
              "    }\n",
              "    80% {\n",
              "      border-color: transparent;\n",
              "      border-right-color: var(--fill-color);\n",
              "      border-bottom-color: var(--fill-color);\n",
              "    }\n",
              "    90% {\n",
              "      border-color: transparent;\n",
              "      border-bottom-color: var(--fill-color);\n",
              "    }\n",
              "  }\n",
              "</style>\n",
              "\n",
              "      <script>\n",
              "        async function quickchart(key) {\n",
              "          const quickchartButtonEl =\n",
              "            document.querySelector('#' + key + ' button');\n",
              "          quickchartButtonEl.disabled = true;  // To prevent multiple clicks.\n",
              "          quickchartButtonEl.classList.add('colab-df-spinner');\n",
              "          try {\n",
              "            const charts = await google.colab.kernel.invokeFunction(\n",
              "                'suggestCharts', [key], {});\n",
              "          } catch (error) {\n",
              "            console.error('Error during call to suggestCharts:', error);\n",
              "          }\n",
              "          quickchartButtonEl.classList.remove('colab-df-spinner');\n",
              "          quickchartButtonEl.classList.add('colab-df-quickchart-complete');\n",
              "        }\n",
              "        (() => {\n",
              "          let quickchartButtonEl =\n",
              "            document.querySelector('#df-d77ee029-e5cf-4284-8137-b06c61737cff button');\n",
              "          quickchartButtonEl.style.display =\n",
              "            google.colab.kernel.accessAllowed ? 'block' : 'none';\n",
              "        })();\n",
              "      </script>\n",
              "    </div>\n",
              "\n",
              "    </div>\n",
              "  </div>\n"
            ],
            "application/vnd.google.colaboratory.intrinsic+json": {
              "type": "dataframe",
              "variable_name": "df",
              "summary": "{\n  \"name\": \"df\",\n  \"rows\": 545,\n  \"fields\": [\n    {\n      \"column\": \"price\",\n      \"properties\": {\n        \"dtype\": \"number\",\n        \"std\": 1870439,\n        \"min\": 1750000,\n        \"max\": 13300000,\n        \"num_unique_values\": 219,\n        \"samples\": [\n          3773000,\n          5285000,\n          1820000\n        ],\n        \"semantic_type\": \"\",\n        \"description\": \"\"\n      }\n    },\n    {\n      \"column\": \"area\",\n      \"properties\": {\n        \"dtype\": \"number\",\n        \"std\": 2170,\n        \"min\": 1650,\n        \"max\": 16200,\n        \"num_unique_values\": 284,\n        \"samples\": [\n          6000,\n          2684,\n          5360\n        ],\n        \"semantic_type\": \"\",\n        \"description\": \"\"\n      }\n    },\n    {\n      \"column\": \"bedrooms\",\n      \"properties\": {\n        \"dtype\": \"number\",\n        \"std\": 0,\n        \"min\": 1,\n        \"max\": 6,\n        \"num_unique_values\": 6,\n        \"samples\": [\n          4,\n          3,\n          1\n        ],\n        \"semantic_type\": \"\",\n        \"description\": \"\"\n      }\n    },\n    {\n      \"column\": \"bathrooms\",\n      \"properties\": {\n        \"dtype\": \"number\",\n        \"std\": 0,\n        \"min\": 1,\n        \"max\": 4,\n        \"num_unique_values\": 4,\n        \"samples\": [\n          4,\n          3,\n          2\n        ],\n        \"semantic_type\": \"\",\n        \"description\": \"\"\n      }\n    },\n    {\n      \"column\": \"stories\",\n      \"properties\": {\n        \"dtype\": \"number\",\n        \"std\": 0,\n        \"min\": 1,\n        \"max\": 4,\n        \"num_unique_values\": 4,\n        \"samples\": [\n          4,\n          1,\n          3\n        ],\n        \"semantic_type\": \"\",\n        \"description\": \"\"\n      }\n    },\n    {\n      \"column\": \"mainroad\",\n      \"properties\": {\n        \"dtype\": \"category\",\n        \"num_unique_values\": 2,\n        \"samples\": [\n          \"no\",\n          \"yes\"\n        ],\n        \"semantic_type\": \"\",\n        \"description\": \"\"\n      }\n    },\n    {\n      \"column\": \"guestroom\",\n      \"properties\": {\n        \"dtype\": \"category\",\n        \"num_unique_values\": 2,\n        \"samples\": [\n          \"yes\",\n          \"no\"\n        ],\n        \"semantic_type\": \"\",\n        \"description\": \"\"\n      }\n    },\n    {\n      \"column\": \"basement\",\n      \"properties\": {\n        \"dtype\": \"category\",\n        \"num_unique_values\": 2,\n        \"samples\": [\n          \"yes\",\n          \"no\"\n        ],\n        \"semantic_type\": \"\",\n        \"description\": \"\"\n      }\n    },\n    {\n      \"column\": \"hotwaterheating\",\n      \"properties\": {\n        \"dtype\": \"category\",\n        \"num_unique_values\": 2,\n        \"samples\": [\n          \"yes\",\n          \"no\"\n        ],\n        \"semantic_type\": \"\",\n        \"description\": \"\"\n      }\n    },\n    {\n      \"column\": \"airconditioning\",\n      \"properties\": {\n        \"dtype\": \"category\",\n        \"num_unique_values\": 2,\n        \"samples\": [\n          \"no\",\n          \"yes\"\n        ],\n        \"semantic_type\": \"\",\n        \"description\": \"\"\n      }\n    },\n    {\n      \"column\": \"parking\",\n      \"properties\": {\n        \"dtype\": \"number\",\n        \"std\": 0,\n        \"min\": 0,\n        \"max\": 3,\n        \"num_unique_values\": 4,\n        \"samples\": [\n          3,\n          1\n        ],\n        \"semantic_type\": \"\",\n        \"description\": \"\"\n      }\n    },\n    {\n      \"column\": \"prefarea\",\n      \"properties\": {\n        \"dtype\": \"category\",\n        \"num_unique_values\": 2,\n        \"samples\": [\n          \"no\",\n          \"yes\"\n        ],\n        \"semantic_type\": \"\",\n        \"description\": \"\"\n      }\n    },\n    {\n      \"column\": \"furnishingstatus\",\n      \"properties\": {\n        \"dtype\": \"category\",\n        \"num_unique_values\": 3,\n        \"samples\": [\n          \"furnished\",\n          \"semi-furnished\"\n        ],\n        \"semantic_type\": \"\",\n        \"description\": \"\"\n      }\n    }\n  ]\n}"
            }
          },
          "metadata": {},
          "execution_count": 2
        }
      ],
      "source": [
        "#Load the Data\n",
        "import pandas as pd\n",
        "import numpy as np\n",
        "from sklearn.model_selection import train_test_split\n",
        "from sklearn.preprocessing import StandardScaler\n",
        "\n",
        "# TODO: Load the housing data\n",
        "df = pd.read_csv('/content/drive/MyDrive/skill_morph/Housing.csv')\n",
        "\n",
        "# TODO: How many houses are there?\n",
        "print(f\"Number of houses: \", len(df))\n",
        "print(f\"Number of houses: \", df.shape[0])\n",
        "\n",
        "# TODO: Show first 3 houses\n",
        "df.head(3)"
      ]
    },
    {
      "cell_type": "code",
      "source": [
        "for col in df.columns.tolist():\n",
        "  if df[col].dtype == 'object':\n",
        "    print(df[col].value_counts())\n",
        "    print()"
      ],
      "metadata": {
        "colab": {
          "base_uri": "https://localhost:8080/"
        },
        "id": "yKVCnZLtMMom",
        "outputId": "796ae4d6-4e06-4381-b922-9fe53fc56eff"
      },
      "execution_count": 3,
      "outputs": [
        {
          "output_type": "stream",
          "name": "stdout",
          "text": [
            "mainroad\n",
            "yes    468\n",
            "no      77\n",
            "Name: count, dtype: int64\n",
            "\n",
            "guestroom\n",
            "no     448\n",
            "yes     97\n",
            "Name: count, dtype: int64\n",
            "\n",
            "basement\n",
            "no     354\n",
            "yes    191\n",
            "Name: count, dtype: int64\n",
            "\n",
            "hotwaterheating\n",
            "no     520\n",
            "yes     25\n",
            "Name: count, dtype: int64\n",
            "\n",
            "airconditioning\n",
            "no     373\n",
            "yes    172\n",
            "Name: count, dtype: int64\n",
            "\n",
            "prefarea\n",
            "no     417\n",
            "yes    128\n",
            "Name: count, dtype: int64\n",
            "\n",
            "furnishingstatus\n",
            "semi-furnished    227\n",
            "unfurnished       178\n",
            "furnished         140\n",
            "Name: count, dtype: int64\n",
            "\n"
          ]
        }
      ]
    },
    {
      "cell_type": "code",
      "source": [
        "# Look at Columns\n",
        "# TODO: Show all column names\n",
        "print(\"Columns:\")\n",
        "print(df.columns)\n",
        "\n",
        "# TODO: Show data types of columns\n",
        "print(\"Data types:\")\n",
        "print(df.dtypes)"
      ],
      "metadata": {
        "id": "jY6xciSB1fGX",
        "colab": {
          "base_uri": "https://localhost:8080/"
        },
        "outputId": "1628205a-0c1a-4fa8-b48e-da87583dd4dd"
      },
      "execution_count": 4,
      "outputs": [
        {
          "output_type": "stream",
          "name": "stdout",
          "text": [
            "Columns:\n",
            "Index(['price', 'area', 'bedrooms', 'bathrooms', 'stories', 'mainroad',\n",
            "       'guestroom', 'basement', 'hotwaterheating', 'airconditioning',\n",
            "       'parking', 'prefarea', 'furnishingstatus'],\n",
            "      dtype='object')\n",
            "Data types:\n",
            "price                int64\n",
            "area                 int64\n",
            "bedrooms             int64\n",
            "bathrooms            int64\n",
            "stories              int64\n",
            "mainroad            object\n",
            "guestroom           object\n",
            "basement            object\n",
            "hotwaterheating     object\n",
            "airconditioning     object\n",
            "parking              int64\n",
            "prefarea            object\n",
            "furnishingstatus    object\n",
            "dtype: object\n"
          ]
        }
      ]
    },
    {
      "cell_type": "code",
      "source": [
        "#Convert Yes/No to 1/0\n",
        "# Check what's in our data\n",
        "print(\"Current mainroad values:\", df['mainroad'].head())\n",
        "# Shows: yes, no, yes, yes, no\n",
        "\n",
        "# Models need numbers, not text!\n",
        "# We need: yes → 1, no → 0\n",
        "from sklearn.preprocessing import LabelEncoder\n",
        "\n",
        "label_enc = LabelEncoder()\n",
        "df['mainroad_encoded'] = label_enc.fit_transform(df['mainroad'])\n",
        "print(\"New mainroad values:\", df['mainroad_encoded'].head())"
      ],
      "metadata": {
        "id": "MwB1ZgVl1plX",
        "colab": {
          "base_uri": "https://localhost:8080/"
        },
        "outputId": "9401ad98-efa0-424a-f74d-5219c2203f64"
      },
      "execution_count": 5,
      "outputs": [
        {
          "output_type": "stream",
          "name": "stdout",
          "text": [
            "Current mainroad values: 0    yes\n",
            "1    yes\n",
            "2    yes\n",
            "3    yes\n",
            "4    yes\n",
            "Name: mainroad, dtype: object\n",
            "New mainroad values: 0    1\n",
            "1    1\n",
            "2    1\n",
            "3    1\n",
            "4    1\n",
            "Name: mainroad_encoded, dtype: int64\n"
          ]
        }
      ]
    },
    {
      "cell_type": "code",
      "source": [
        "# Split into Train and Test\n",
        "# TODO: Split - 80% train, 20% test\n",
        "\n",
        "df1 = pd.read_csv('/content/drive/MyDrive/skill_morph/Housing.csv')\n",
        "# print(df1.head(2))\n",
        "\n",
        "x = df1.drop('price', axis=1)\n",
        "y = df1['price']\n",
        "\n",
        "x_train, x_test, y_train, y_test = train_test_split(x, y, test_size=0.2, random_state=42)\n",
        "print(len(x_train))\n",
        "print(len(x_test))\n",
        "print(len(y_train))\n",
        "print(len(y_test))"
      ],
      "metadata": {
        "id": "CGWFD9Do1w2J",
        "colab": {
          "base_uri": "https://localhost:8080/"
        },
        "outputId": "4036e045-444e-49ec-93c7-5df4cdb764db"
      },
      "execution_count": 6,
      "outputs": [
        {
          "output_type": "stream",
          "name": "stdout",
          "text": [
            "436\n",
            "109\n",
            "436\n",
            "109\n"
          ]
        }
      ]
    },
    {
      "cell_type": "code",
      "source": [
        "#Apply StandardScaler\n",
        "# Area is huge (1650-13300), Bedrooms is small (1-6)!\n",
        "#Your Code here\n",
        "\n",
        "numeric_col = ['area','bedrooms','bathrooms','stories','parking']\n",
        "\n",
        "scaler = StandardScaler()\n",
        "x_train_scaled = scaler.fit_transform(x_train[numeric_col])\n",
        "x_test_scaled = scaler.transform(x_test[numeric_col])\n",
        "\n",
        "print(x_train.head(3))\n",
        "print(x_train_scaled[:3])"
      ],
      "metadata": {
        "id": "ORsVWo8E18y1",
        "colab": {
          "base_uri": "https://localhost:8080/"
        },
        "outputId": "f2200875-95b1-4717-9cb6-9bdaa87ee33e"
      },
      "execution_count": 7,
      "outputs": [
        {
          "output_type": "stream",
          "name": "stdout",
          "text": [
            "     area  bedrooms  bathrooms  stories mainroad guestroom basement  \\\n",
            "46   6000         3          2        4      yes        no       no   \n",
            "93   7200         3          2        1      yes        no      yes   \n",
            "335  3816         2          1        1      yes        no      yes   \n",
            "\n",
            "    hotwaterheating airconditioning  parking prefarea furnishingstatus  \n",
            "46               no             yes        1       no        furnished  \n",
            "93               no             yes        3       no   semi-furnished  \n",
            "335              no             yes        2       no        furnished  \n",
            "[[ 0.38416819  0.05527092  1.53917323  2.58764353  0.36795665]\n",
            " [ 0.9291807   0.05527092  1.53917323 -0.91249891  2.70998729]\n",
            " [-0.60775457 -1.28351359 -0.5579503  -0.91249891  1.53897197]]\n"
          ]
        }
      ]
    },
    {
      "cell_type": "code",
      "source": [
        "import joblib\n",
        "\n",
        "# Save the StandardScaler for numeric columns\n",
        "joblib.dump(scaler, '/content/drive/MyDrive/skill_morph/scaler_numeric.pkl')\n",
        "print(\"Numeric scaler saved as 'scaler_numeric.pkl'\")"
      ],
      "metadata": {
        "colab": {
          "base_uri": "https://localhost:8080/"
        },
        "id": "fB69MBYiU-In",
        "outputId": "062e579a-e6ae-49b2-b712-6237d259f094"
      },
      "execution_count": 8,
      "outputs": [
        {
          "output_type": "stream",
          "name": "stdout",
          "text": [
            "Numeric scaler saved as 'scaler_numeric.pkl'\n"
          ]
        }
      ]
    },
    {
      "cell_type": "code",
      "source": [
        "## Encoding the categorical data\n",
        "\n",
        "cat_cols = ['mainroad', 'guestroom', 'basement', 'hotwaterheating', 'airconditioning', 'prefarea']\n",
        "\n",
        "for col in cat_cols:\n",
        "  label_enc = LabelEncoder()\n",
        "  # x_train[col] = label_enc.fit_transform(x_train[col])\n",
        "  label_enc.fit(x_train[col])\n",
        "  joblib.dump(label_enc, f'/content/drive/MyDrive/skill_morph/label_enc_{col}.pkl')\n",
        "  x_train[col] = label_enc.transform(x_train[col])\n",
        "  x_test[col] = label_enc.transform(x_test[col])\n",
        "\n",
        "  print(f\"saved {col} as 'label_enc_{col}.pkl'\")\n",
        "\n",
        "print(x_train.head(3))"
      ],
      "metadata": {
        "colab": {
          "base_uri": "https://localhost:8080/"
        },
        "id": "2KbejLGTFnqz",
        "outputId": "cc5f04ee-54a0-4622-c77f-1ff92ce194aa"
      },
      "execution_count": 9,
      "outputs": [
        {
          "output_type": "stream",
          "name": "stdout",
          "text": [
            "saved mainroad as 'label_enc_mainroad.pkl'\n",
            "saved guestroom as 'label_enc_guestroom.pkl'\n",
            "saved basement as 'label_enc_basement.pkl'\n",
            "saved hotwaterheating as 'label_enc_hotwaterheating.pkl'\n",
            "saved airconditioning as 'label_enc_airconditioning.pkl'\n",
            "saved prefarea as 'label_enc_prefarea.pkl'\n",
            "     area  bedrooms  bathrooms  stories  mainroad  guestroom  basement  \\\n",
            "46   6000         3          2        4         1          0         0   \n",
            "93   7200         3          2        1         1          0         1   \n",
            "335  3816         2          1        1         1          0         1   \n",
            "\n",
            "     hotwaterheating  airconditioning  parking  prefarea furnishingstatus  \n",
            "46                 0                1        1         0        furnished  \n",
            "93                 0                1        3         0   semi-furnished  \n",
            "335                0                1        2         0        furnished  \n"
          ]
        }
      ]
    },
    {
      "cell_type": "code",
      "source": [
        "furnish_encoded_train = pd.get_dummies(x_train['furnishingstatus'], prefix='status')\n",
        "furnish_encoded_test = pd.get_dummies(x_test['furnishingstatus'], prefix='status')\n",
        "\n",
        "x_train = pd.concat([x_train, furnish_encoded_train], axis=1)\n",
        "x_train.drop('furnishingstatus', axis=1, inplace=True)\n",
        "\n",
        "x_test = pd.concat([x_test, furnish_encoded_test], axis=1)\n",
        "x_test.drop('furnishingstatus', axis=1, inplace=True)\n",
        "\n",
        "print(x_train.head(3))\n",
        "print(x_test.head(3))"
      ],
      "metadata": {
        "colab": {
          "base_uri": "https://localhost:8080/"
        },
        "id": "to8v8y4lNDmt",
        "outputId": "8c474f7a-0016-4c97-d4ab-fec318cfc7bc"
      },
      "execution_count": 10,
      "outputs": [
        {
          "output_type": "stream",
          "name": "stdout",
          "text": [
            "     area  bedrooms  bathrooms  stories  mainroad  guestroom  basement  \\\n",
            "46   6000         3          2        4         1          0         0   \n",
            "93   7200         3          2        1         1          0         1   \n",
            "335  3816         2          1        1         1          0         1   \n",
            "\n",
            "     hotwaterheating  airconditioning  parking  prefarea  status_furnished  \\\n",
            "46                 0                1        1         0              True   \n",
            "93                 0                1        3         0             False   \n",
            "335                0                1        2         0              True   \n",
            "\n",
            "     status_semi-furnished  status_unfurnished  \n",
            "46                   False               False  \n",
            "93                    True               False  \n",
            "335                  False               False  \n",
            "     area  bedrooms  bathrooms  stories  mainroad  guestroom  basement  \\\n",
            "316  5900         4          2        2         0          0         1   \n",
            "77   6500         3          2        3         1          0         0   \n",
            "360  4040         2          1        1         1          0         0   \n",
            "\n",
            "     hotwaterheating  airconditioning  parking  prefarea  status_furnished  \\\n",
            "316                0                0        1         0             False   \n",
            "77                 0                1        0         1              True   \n",
            "360                0                0        0         0             False   \n",
            "\n",
            "     status_semi-furnished  status_unfurnished  \n",
            "316                  False                True  \n",
            "77                   False               False  \n",
            "360                   True               False  \n"
          ]
        }
      ]
    },
    {
      "cell_type": "code",
      "source": [
        "furnish_cols = furnish_encoded_train.columns.tolist()\n",
        "joblib.dump(furnish_cols, '/content/drive/MyDrive/skill_morph/furnish_cols.pkl')\n",
        "print(\"Furnishingstatus columns saved as 'furnish_cols.pkl'\")"
      ],
      "metadata": {
        "colab": {
          "base_uri": "https://localhost:8080/"
        },
        "id": "jUbjzoNRWMx5",
        "outputId": "8ed9fe8a-4830-46d9-8b59-4068aed0b2d9"
      },
      "execution_count": 11,
      "outputs": [
        {
          "output_type": "stream",
          "name": "stdout",
          "text": [
            "Furnishingstatus columns saved as 'furnish_cols.pkl'\n"
          ]
        }
      ]
    },
    {
      "cell_type": "code",
      "source": [
        "import numpy as np\n",
        "\n",
        "x_train_scaled_df = pd.DataFrame(x_train_scaled, columns=numeric_col, index=x_train.index)\n",
        "x_test_scaled_df = pd.DataFrame(x_test_scaled, columns=numeric_col, index=x_test.index)\n",
        "\n",
        "x_train = pd.concat([x_train_scaled_df, x_train.drop(numeric_col, axis=1)], axis=1)\n",
        "x_test = pd.concat([x_test_scaled_df, x_test.drop(numeric_col, axis=1)], axis=1)\n",
        "\n",
        "print(x_train.head(3))\n",
        "print(x_test.head(3))\n"
      ],
      "metadata": {
        "colab": {
          "base_uri": "https://localhost:8080/"
        },
        "id": "GZUCxg6uH65k",
        "outputId": "707b009c-e62f-4af5-e2b9-243b5a583937"
      },
      "execution_count": 12,
      "outputs": [
        {
          "output_type": "stream",
          "name": "stdout",
          "text": [
            "         area  bedrooms  bathrooms   stories   parking  mainroad  guestroom  \\\n",
            "46   0.384168  0.055271   1.539173  2.587644  0.367957         1          0   \n",
            "93   0.929181  0.055271   1.539173 -0.912499  2.709987         1          0   \n",
            "335 -0.607755 -1.283514  -0.557950 -0.912499  1.538972         1          0   \n",
            "\n",
            "     basement  hotwaterheating  airconditioning  prefarea  status_furnished  \\\n",
            "46          0                0                1         0              True   \n",
            "93          1                0                1         0             False   \n",
            "335         1                0                1         0              True   \n",
            "\n",
            "     status_semi-furnished  status_unfurnished  \n",
            "46                   False               False  \n",
            "93                    True               False  \n",
            "335                  False               False  \n",
            "         area  bedrooms  bathrooms   stories   parking  mainroad  guestroom  \\\n",
            "316  0.338750  1.394055   1.539173  0.254215  0.367957         0          0   \n",
            "77   0.611257  0.055271   1.539173  1.420929 -0.803059         1          0   \n",
            "360 -0.506019 -1.283514  -0.557950 -0.912499 -0.803059         1          0   \n",
            "\n",
            "     basement  hotwaterheating  airconditioning  prefarea  status_furnished  \\\n",
            "316         1                0                0         0             False   \n",
            "77          0                0                1         1              True   \n",
            "360         0                0                0         0             False   \n",
            "\n",
            "     status_semi-furnished  status_unfurnished  \n",
            "316                  False                True  \n",
            "77                   False               False  \n",
            "360                   True               False  \n"
          ]
        }
      ]
    },
    {
      "cell_type": "code",
      "source": [
        "print(x_train.isnull().sum())"
      ],
      "metadata": {
        "colab": {
          "base_uri": "https://localhost:8080/"
        },
        "id": "R1dYtx_2O0l3",
        "outputId": "0c75a4fb-1095-45a2-f96e-91a4707a3c63"
      },
      "execution_count": 13,
      "outputs": [
        {
          "output_type": "stream",
          "name": "stdout",
          "text": [
            "area                     0\n",
            "bedrooms                 0\n",
            "bathrooms                0\n",
            "stories                  0\n",
            "parking                  0\n",
            "mainroad                 0\n",
            "guestroom                0\n",
            "basement                 0\n",
            "hotwaterheating          0\n",
            "airconditioning          0\n",
            "prefarea                 0\n",
            "status_furnished         0\n",
            "status_semi-furnished    0\n",
            "status_unfurnished       0\n",
            "dtype: int64\n"
          ]
        }
      ]
    },
    {
      "cell_type": "code",
      "source": [
        "print(x_test.isnull().sum())"
      ],
      "metadata": {
        "colab": {
          "base_uri": "https://localhost:8080/"
        },
        "id": "D-_0L6yyOlP6",
        "outputId": "c8696be5-fa6d-49af-8d4c-43e7b70e42db"
      },
      "execution_count": 14,
      "outputs": [
        {
          "output_type": "stream",
          "name": "stdout",
          "text": [
            "area                     0\n",
            "bedrooms                 0\n",
            "bathrooms                0\n",
            "stories                  0\n",
            "parking                  0\n",
            "mainroad                 0\n",
            "guestroom                0\n",
            "basement                 0\n",
            "hotwaterheating          0\n",
            "airconditioning          0\n",
            "prefarea                 0\n",
            "status_furnished         0\n",
            "status_semi-furnished    0\n",
            "status_unfurnished       0\n",
            "dtype: int64\n"
          ]
        }
      ]
    },
    {
      "cell_type": "code",
      "source": [
        "pd.DataFrame(x_train).to_csv('/content/drive/MyDrive/skill_morph/train_data.csv', index=False)\n",
        "print(\"Scaled data saved as 'train_data_scaled.csv'\")"
      ],
      "metadata": {
        "colab": {
          "base_uri": "https://localhost:8080/"
        },
        "id": "bLZNAHDiWyF1",
        "outputId": "dffa8966-a107-404a-bac4-c6d0cc323a95"
      },
      "execution_count": 15,
      "outputs": [
        {
          "output_type": "stream",
          "name": "stdout",
          "text": [
            "Scaled data saved as 'train_data_scaled.csv'\n"
          ]
        }
      ]
    },
    {
      "cell_type": "code",
      "source": [
        "#train and test model\n",
        "#your code here\n",
        "\n",
        "from sklearn.linear_model import LinearRegression\n",
        "from sklearn.metrics import mean_squared_error, r2_score\n",
        "\n",
        "model = LinearRegression()\n",
        "model.fit(x_train, y_train)\n",
        "print(\"Training accuracy: \", model.score(x_train, y_train))\n",
        "\n",
        "print(\"Testing accuracy: \", model.score(x_test, y_test))\n",
        "y_pred = model.predict(x_test)\n",
        "print(\"MSE: \", mean_squared_error(y_test, y_pred))\n",
        "print(\"R2: \", r2_score(y_test, y_pred))"
      ],
      "metadata": {
        "id": "khBlvU-f2QnW",
        "colab": {
          "base_uri": "https://localhost:8080/"
        },
        "outputId": "45df8203-458e-4832-8ac7-b079e3615a14"
      },
      "execution_count": 16,
      "outputs": [
        {
          "output_type": "stream",
          "name": "stdout",
          "text": [
            "Training accuracy:  0.6859438988560158\n",
            "Testing accuracy:  0.6529242642153177\n",
            "MSE:  1754318687330.6677\n",
            "R2:  0.6529242642153177\n"
          ]
        }
      ]
    },
    {
      "cell_type": "code",
      "source": [
        "# Training accuracy:  0.6859438988560158\n",
        "# Testing accuracy:  0.6529242642153177\n",
        "# MSE:  1754318687330.6677\n",
        "# R2:  0.6529242642153177"
      ],
      "metadata": {
        "id": "E7GNbBS2evU-"
      },
      "execution_count": 17,
      "outputs": []
    },
    {
      "cell_type": "code",
      "source": [
        "joblib.dump(model, '/content/drive/MyDrive/skill_morph/my_model.pkl')\n",
        "print(\"Model saved as 'my_model.pkl'\")"
      ],
      "metadata": {
        "colab": {
          "base_uri": "https://localhost:8080/"
        },
        "id": "VQT0G8VQXVP3",
        "outputId": "fa990e5d-c400-4a11-d26a-20396e8efeb1"
      },
      "execution_count": 18,
      "outputs": [
        {
          "output_type": "stream",
          "name": "stdout",
          "text": [
            "Model saved as 'my_model.pkl'\n"
          ]
        }
      ]
    },
    {
      "cell_type": "code",
      "source": [
        "# Load saved model and scaler\n",
        "model = joblib.load('/content/drive/MyDrive/skill_morph/my_model.pkl')\n",
        "numeric_scaler = joblib.load('/content/drive/MyDrive/skill_morph/scaler_numeric.pkl')\n",
        "# label_encoders = {col: joblib.load(f'/content/drive/MyDrive/skill_morph/label_enc_{col}.pkl') for col in cat_cols}\n",
        "furnish_cols = joblib.load('/content/drive/MyDrive/skill_morph/furnish_cols.pkl')"
      ],
      "metadata": {
        "id": "0SjeikWrLtti"
      },
      "execution_count": 19,
      "outputs": []
    },
    {
      "cell_type": "code",
      "source": [
        "# Predict a House Price\n",
        "# New house details:\n",
        "# area=5000, bedrooms=3, bathrooms=2, stories=2,\n",
        "# mainroad=yes, guestroom=no, basement=yes,\n",
        "# hotwaterheating=no, airconditioning=yes,\n",
        "# parking=2, prefarea=yes, furnishingstatus=furnished\n",
        "#your code here\n",
        "\n",
        "new_house = [[5000, 3 , 2, 2, 'yes', 'no', 'yes', 'no', 'yes', 2, 'yes', 'furnished']]\n",
        "cols = ['area','bedrooms','bathrooms','stories','mainroad','guestroom','basement','hotwaterheating','airconditioning','parking','prefarea','furnishingstatus']\n",
        "\n",
        "df2 = pd.DataFrame(new_house, columns=cols)\n",
        "print(df2)"
      ],
      "metadata": {
        "id": "no5CjmoK2aHb",
        "colab": {
          "base_uri": "https://localhost:8080/"
        },
        "outputId": "4328b093-4163-48d4-c54b-bb4f41ddc6da"
      },
      "execution_count": 20,
      "outputs": [
        {
          "output_type": "stream",
          "name": "stdout",
          "text": [
            "   area  bedrooms  bathrooms  stories mainroad guestroom basement  \\\n",
            "0  5000         3          2        2      yes        no      yes   \n",
            "\n",
            "  hotwaterheating airconditioning  parking prefarea furnishingstatus  \n",
            "0              no             yes        2      yes        furnished  \n"
          ]
        }
      ]
    },
    {
      "cell_type": "code",
      "source": [
        "df2.dtypes"
      ],
      "metadata": {
        "colab": {
          "base_uri": "https://localhost:8080/",
          "height": 460
        },
        "id": "pbRaDjGjbSZL",
        "outputId": "f48a7de7-0526-41f1-c1a6-db576c50b49f"
      },
      "execution_count": 21,
      "outputs": [
        {
          "output_type": "execute_result",
          "data": {
            "text/plain": [
              "area                 int64\n",
              "bedrooms             int64\n",
              "bathrooms            int64\n",
              "stories              int64\n",
              "mainroad            object\n",
              "guestroom           object\n",
              "basement            object\n",
              "hotwaterheating     object\n",
              "airconditioning     object\n",
              "parking              int64\n",
              "prefarea            object\n",
              "furnishingstatus    object\n",
              "dtype: object"
            ],
            "text/html": [
              "<div>\n",
              "<style scoped>\n",
              "    .dataframe tbody tr th:only-of-type {\n",
              "        vertical-align: middle;\n",
              "    }\n",
              "\n",
              "    .dataframe tbody tr th {\n",
              "        vertical-align: top;\n",
              "    }\n",
              "\n",
              "    .dataframe thead th {\n",
              "        text-align: right;\n",
              "    }\n",
              "</style>\n",
              "<table border=\"1\" class=\"dataframe\">\n",
              "  <thead>\n",
              "    <tr style=\"text-align: right;\">\n",
              "      <th></th>\n",
              "      <th>0</th>\n",
              "    </tr>\n",
              "  </thead>\n",
              "  <tbody>\n",
              "    <tr>\n",
              "      <th>area</th>\n",
              "      <td>int64</td>\n",
              "    </tr>\n",
              "    <tr>\n",
              "      <th>bedrooms</th>\n",
              "      <td>int64</td>\n",
              "    </tr>\n",
              "    <tr>\n",
              "      <th>bathrooms</th>\n",
              "      <td>int64</td>\n",
              "    </tr>\n",
              "    <tr>\n",
              "      <th>stories</th>\n",
              "      <td>int64</td>\n",
              "    </tr>\n",
              "    <tr>\n",
              "      <th>mainroad</th>\n",
              "      <td>object</td>\n",
              "    </tr>\n",
              "    <tr>\n",
              "      <th>guestroom</th>\n",
              "      <td>object</td>\n",
              "    </tr>\n",
              "    <tr>\n",
              "      <th>basement</th>\n",
              "      <td>object</td>\n",
              "    </tr>\n",
              "    <tr>\n",
              "      <th>hotwaterheating</th>\n",
              "      <td>object</td>\n",
              "    </tr>\n",
              "    <tr>\n",
              "      <th>airconditioning</th>\n",
              "      <td>object</td>\n",
              "    </tr>\n",
              "    <tr>\n",
              "      <th>parking</th>\n",
              "      <td>int64</td>\n",
              "    </tr>\n",
              "    <tr>\n",
              "      <th>prefarea</th>\n",
              "      <td>object</td>\n",
              "    </tr>\n",
              "    <tr>\n",
              "      <th>furnishingstatus</th>\n",
              "      <td>object</td>\n",
              "    </tr>\n",
              "  </tbody>\n",
              "</table>\n",
              "</div><br><label><b>dtype:</b> object</label>"
            ]
          },
          "metadata": {},
          "execution_count": 21
        }
      ]
    },
    {
      "cell_type": "code",
      "source": [
        "numeric_col = ['area','bedrooms','bathrooms','stories','parking']\n",
        "df2[numeric_col] = numeric_scaler.transform(df2[numeric_col])\n",
        "\n",
        "\n",
        "cat_cols = ['mainroad', 'guestroom', 'basement', 'hotwaterheating', 'airconditioning', 'prefarea']\n",
        "for col in cat_cols:\n",
        "    label_enc = joblib.load(f'/content/drive/MyDrive/skill_morph/label_enc_{col}.pkl')\n",
        "    df2[col] = label_enc.transform(df2[col])\n",
        "\n",
        "\n",
        "furnish_encoded = pd.get_dummies(df2['furnishingstatus'], prefix='status')\n",
        "furnish_encoded = furnish_encoded.reindex(columns=furnish_cols, fill_value=False)\n",
        "df2 = pd.concat([df2.drop('furnishingstatus', axis=1), furnish_encoded], axis=1)\n",
        "\n",
        "print(df2)\n",
        "\n",
        "df2 = df2.reindex(columns=x_train.columns)\n",
        "print(df2)"
      ],
      "metadata": {
        "colab": {
          "base_uri": "https://localhost:8080/"
        },
        "id": "abC3lr2HQIIJ",
        "outputId": "d9ea87da-35ff-49b2-88e9-2fe4ff6ddc89"
      },
      "execution_count": 22,
      "outputs": [
        {
          "output_type": "stream",
          "name": "stdout",
          "text": [
            "       area  bedrooms  bathrooms   stories  mainroad  guestroom  basement  \\\n",
            "0 -0.070009  0.055271   1.539173  0.254215         1          0         1   \n",
            "\n",
            "   hotwaterheating  airconditioning   parking  prefarea  status_furnished  \\\n",
            "0                0                1  1.538972         1              True   \n",
            "\n",
            "   status_semi-furnished  status_unfurnished  \n",
            "0                  False               False  \n",
            "       area  bedrooms  bathrooms   stories   parking  mainroad  guestroom  \\\n",
            "0 -0.070009  0.055271   1.539173  0.254215  1.538972         1          0   \n",
            "\n",
            "   basement  hotwaterheating  airconditioning  prefarea  status_furnished  \\\n",
            "0         1                0                1         1              True   \n",
            "\n",
            "   status_semi-furnished  status_unfurnished  \n",
            "0                  False               False  \n"
          ]
        }
      ]
    },
    {
      "cell_type": "code",
      "source": [
        "predicted_price = model.predict(df2)\n",
        "print(predicted_price)\n",
        "print(\"Predicted house price:\", predicted_price[0])"
      ],
      "metadata": {
        "colab": {
          "base_uri": "https://localhost:8080/"
        },
        "id": "tABtwnoQfbGY",
        "outputId": "83970d72-e762-42c5-edf7-d1d7148736e2"
      },
      "execution_count": 23,
      "outputs": [
        {
          "output_type": "stream",
          "name": "stdout",
          "text": [
            "[7303227.49895901]\n",
            "Predicted house price: 7303227.498959007\n"
          ]
        }
      ]
    }
  ]
}