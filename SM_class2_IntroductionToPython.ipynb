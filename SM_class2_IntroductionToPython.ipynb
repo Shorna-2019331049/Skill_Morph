{
  "nbformat": 4,
  "nbformat_minor": 0,
  "metadata": {
    "colab": {
      "provenance": [],
      "authorship_tag": "ABX9TyMGKDAtfVJUzR+/4CDBCYog",
      "include_colab_link": true
    },
    "kernelspec": {
      "name": "python3",
      "display_name": "Python 3"
    },
    "language_info": {
      "name": "python"
    }
  },
  "cells": [
    {
      "cell_type": "markdown",
      "metadata": {
        "id": "view-in-github",
        "colab_type": "text"
      },
      "source": [
        "<a href=\"https://colab.research.google.com/github/Shorna-2019331049/Skill_Morph/blob/main/SM_class2_IntroductionToPython.ipynb\" target=\"_parent\"><img src=\"https://colab.research.google.com/assets/colab-badge.svg\" alt=\"Open In Colab\"/></a>"
      ]
    },
    {
      "cell_type": "markdown",
      "source": [
        "# Python Basics: Variables"
      ],
      "metadata": {
        "id": "FymjCz4IE2a0"
      }
    },
    {
      "cell_type": "markdown",
      "source": [
        "## 2.1.  Create variables for your name, age, and favorite color, then print them with descriptive labels.\n",
        ""
      ],
      "metadata": {
        "id": "Gx3MhzEaFAFT"
      }
    },
    {
      "cell_type": "code",
      "execution_count": 3,
      "metadata": {
        "id": "aA6IHLc2_YQw",
        "colab": {
          "base_uri": "https://localhost:8080/"
        },
        "outputId": "b1628625-9225-420d-d1d8-0c314db4c6dc"
      },
      "outputs": [
        {
          "output_type": "stream",
          "name": "stdout",
          "text": [
            "Name: Shorna\n",
            "Age: 25\n",
            "Favorite Color: Blue\n"
          ]
        }
      ],
      "source": [
        "name = \"Shorna\"\n",
        "age = 25\n",
        "fav_color = \"Blue\"\n",
        "\n",
        "print(f\"Name: {name}\")\n",
        "print(f\"Age: {age}\")\n",
        "print(f\"Favorite Color: {fav_color}\")"
      ]
    },
    {
      "cell_type": "markdown",
      "source": [
        "# Python Data Types"
      ],
      "metadata": {
        "id": "Jx7B0fimFUbL"
      }
    },
    {
      "cell_type": "markdown",
      "source": [
        "## 2.2.  Create one variable of each type and use the type() function to verify its type.\n"
      ],
      "metadata": {
        "id": "tG09qHToFXQz"
      }
    },
    {
      "cell_type": "code",
      "source": [
        "name = \"Shorna\"\n",
        "age  = 25\n",
        "price = 80.64\n",
        "is_valid = True\n",
        "result = None\n",
        "\n",
        "print(type(name))\n",
        "print(type(age))\n",
        "print(type(price))\n",
        "print(type(is_valid))\n",
        "print(type(result))"
      ],
      "metadata": {
        "colab": {
          "base_uri": "https://localhost:8080/"
        },
        "id": "6b2geaBZFbVO",
        "outputId": "0685a382-d3d9-4a97-87d6-e09f8b05ebb5"
      },
      "execution_count": 4,
      "outputs": [
        {
          "output_type": "stream",
          "name": "stdout",
          "text": [
            "<class 'str'>\n",
            "<class 'int'>\n",
            "<class 'float'>\n",
            "<class 'bool'>\n",
            "<class 'NoneType'>\n"
          ]
        }
      ]
    },
    {
      "cell_type": "markdown",
      "source": [
        "# Basic Operations"
      ],
      "metadata": {
        "id": "vNmbRntPFs98"
      }
    },
    {
      "cell_type": "markdown",
      "source": [
        "## 2.3.  Calculate the area and perimeter of a rectangle with length 7 and width 5.\n"
      ],
      "metadata": {
        "id": "7hUhGls8FvGB"
      }
    },
    {
      "cell_type": "code",
      "source": [
        "length = 7\n",
        "width = 5\n",
        "\n",
        "area = length * width\n",
        "perimeter = 2 * (length + width)\n",
        "\n",
        "print(f\"Area: {area}\")\n",
        "print(f\"Perimeter: {perimeter}\")"
      ],
      "metadata": {
        "colab": {
          "base_uri": "https://localhost:8080/"
        },
        "id": "txrY1YhtFzo5",
        "outputId": "0911e9da-d64e-4c9d-9186-6bdb5d7688e7"
      },
      "execution_count": 5,
      "outputs": [
        {
          "output_type": "stream",
          "name": "stdout",
          "text": [
            "Area: 35\n",
            "Perimeter: 24\n"
          ]
        }
      ]
    },
    {
      "cell_type": "markdown",
      "source": [
        "# Data Collections"
      ],
      "metadata": {
        "id": "1NiJVLxhGBJb"
      }
    },
    {
      "cell_type": "markdown",
      "source": [
        "## 2.4.  Create a list of 5 Bangladeshi foods, then access the first and last elements."
      ],
      "metadata": {
        "id": "whEpp_rzGEA8"
      }
    },
    {
      "cell_type": "code",
      "source": [
        "bd_foods = ['panta ilish', 'fuchka', 'biriyani', 'chingri bhorta', 'khichuri']\n",
        "print(bd_foods)\n",
        "print(bd_foods[0])\n",
        "print(bd_foods[-1])"
      ],
      "metadata": {
        "colab": {
          "base_uri": "https://localhost:8080/"
        },
        "id": "uJR7BvERGLsu",
        "outputId": "8f1b14c4-e3de-44f2-998a-faaf67fefcd5"
      },
      "execution_count": 6,
      "outputs": [
        {
          "output_type": "stream",
          "name": "stdout",
          "text": [
            "['panta ilish', 'fuchka', 'biriyani', 'chingri bhorta', 'khichuri']\n",
            "panta ilish\n",
            "khichuri\n"
          ]
        }
      ]
    },
    {
      "cell_type": "markdown",
      "source": [
        "## 2.5.  Create a list of 5 numbers, add a new number, remove one, and then sort the list"
      ],
      "metadata": {
        "id": "BKf2dzwRGhFY"
      }
    },
    {
      "cell_type": "code",
      "source": [
        "numbers = [4,7,8,2,3]\n",
        "print(numbers)\n",
        "numbers.append(13)\n",
        "print(numbers)\n",
        "numbers.remove(8)\n",
        "print(numbers)\n",
        "numbers.sort()\n",
        "print(numbers)"
      ],
      "metadata": {
        "colab": {
          "base_uri": "https://localhost:8080/"
        },
        "id": "6djHG2ByGlj_",
        "outputId": "9a0560a8-8889-4e6f-a8da-eac912124d07"
      },
      "execution_count": 7,
      "outputs": [
        {
          "output_type": "stream",
          "name": "stdout",
          "text": [
            "[4, 7, 8, 2, 3]\n",
            "[4, 7, 8, 2, 3, 13]\n",
            "[4, 7, 2, 3, 13]\n",
            "[2, 3, 4, 7, 13]\n"
          ]
        }
      ]
    },
    {
      "cell_type": "markdown",
      "source": [
        "## 2.6.  Create a dictionary about yourself with at least 4 key-value pairs.\n"
      ],
      "metadata": {
        "id": "BRAClPTMG1s8"
      }
    },
    {
      "cell_type": "code",
      "source": [
        "myself = {\n",
        "    'name':\"Shorna\",\n",
        "    'age':25,\n",
        "    'fav_color':\"Blue\",\n",
        "    'fav_food':\"biriyani\"\n",
        "}\n",
        "print(myself)\n",
        "print(myself['name'])\n",
        "print(myself['fav_food'])"
      ],
      "metadata": {
        "colab": {
          "base_uri": "https://localhost:8080/"
        },
        "id": "_uCaL9GZG7r4",
        "outputId": "991eea8d-c687-42aa-90c8-0f34fd919b6c"
      },
      "execution_count": 9,
      "outputs": [
        {
          "output_type": "stream",
          "name": "stdout",
          "text": [
            "{'name': 'Shorna', 'age': 25, 'fav_color': 'Blue', 'fav_food': 'biriyani'}\n",
            "Shorna\n",
            "biriyani\n"
          ]
        }
      ]
    },
    {
      "cell_type": "markdown",
      "source": [
        "## 2.7. Create a tuple with the latitude and longitude of a famous place in Bangladesh.\n"
      ],
      "metadata": {
        "id": "r84WiXbGHPSi"
      }
    },
    {
      "cell_type": "code",
      "source": [
        "coordinate = (23.4,90.4)\n",
        "print(coordinate)\n",
        "print(coordinate[0])\n",
        "print(coordinate[1])"
      ],
      "metadata": {
        "colab": {
          "base_uri": "https://localhost:8080/"
        },
        "id": "L2knh0zGHVBS",
        "outputId": "ff600f22-f1c8-4818-8408-d57c44c441a0"
      },
      "execution_count": 10,
      "outputs": [
        {
          "output_type": "stream",
          "name": "stdout",
          "text": [
            "(23.4, 90.4)\n",
            "23.4\n",
            "90.4\n"
          ]
        }
      ]
    },
    {
      "cell_type": "markdown",
      "source": [
        "##  2.8. Create two sets of colors and find their union and intersec"
      ],
      "metadata": {
        "id": "uJoDcztgIOCm"
      }
    },
    {
      "cell_type": "code",
      "source": [
        "color_1 = {'red','green','blue'}\n",
        "color_2 = {'black','pink','blue','orange'}\n",
        "print(color_1)\n",
        "print(color_2)\n",
        "print(color_1.union(color_2))\n",
        "print(color_1.intersection(color_2))\n",
        "\n",
        "print(color_1 | color_2)\n",
        "print(color_1 & color_2)"
      ],
      "metadata": {
        "colab": {
          "base_uri": "https://localhost:8080/"
        },
        "id": "ASebCeavIRqH",
        "outputId": "16cbfbe4-d35b-4af0-ee80-d2a4a904bcbb"
      },
      "execution_count": 16,
      "outputs": [
        {
          "output_type": "stream",
          "name": "stdout",
          "text": [
            "{'green', 'red', 'blue'}\n",
            "{'orange', 'black', 'blue', 'pink'}\n",
            "{'green', 'orange', 'black', 'pink', 'red', 'blue'}\n",
            "{'blue'}\n",
            "{'green', 'orange', 'black', 'pink', 'red', 'blue'}\n",
            "{'blue'}\n"
          ]
        }
      ]
    },
    {
      "cell_type": "markdown",
      "source": [
        "# Control Structures"
      ],
      "metadata": {
        "id": "Ina4SF6VJBUJ"
      }
    },
    {
      "cell_type": "markdown",
      "source": [
        "## 2.9.  Write a program that checks if a number is positive, negative, or zero.\n"
      ],
      "metadata": {
        "id": "_TSRf_VQJFnm"
      }
    },
    {
      "cell_type": "code",
      "source": [
        "number = int(input(\"Enter a number: \"))\n",
        "\n",
        "if number>0:\n",
        "  print(\"Positive number\")\n",
        "elif number<0:\n",
        "  print(\"Negative number\")\n",
        "else:\n",
        "  print(\"Zero\")"
      ],
      "metadata": {
        "colab": {
          "base_uri": "https://localhost:8080/"
        },
        "id": "uOHublhuJDyM",
        "outputId": "02f5c56d-9581-4427-ffba-467f825b0652"
      },
      "execution_count": 21,
      "outputs": [
        {
          "output_type": "stream",
          "name": "stdout",
          "text": [
            "Enter a number: 9\n",
            "Positive number\n"
          ]
        }
      ]
    },
    {
      "cell_type": "markdown",
      "source": [
        "## 2.10. Write a program that checks eligibility for a discount (student AND under 25, OR senior over 60)"
      ],
      "metadata": {
        "id": "ZI5vQZJyKZ-o"
      }
    },
    {
      "cell_type": "code",
      "source": [
        "person = \"student\"\n",
        "age = 23\n",
        "if(person==\"student\" and age<25) or (person==\"senior\" and age>60):\n",
        "  print(\"Eligible for discount\")\n",
        "else:\n",
        "  print(\"Not eligible\")"
      ],
      "metadata": {
        "colab": {
          "base_uri": "https://localhost:8080/"
        },
        "id": "scbqu2vxKeH-",
        "outputId": "0f2b6ba0-4ea9-41c2-89dd-ac0b87e4b73b"
      },
      "execution_count": 27,
      "outputs": [
        {
          "output_type": "stream",
          "name": "stdout",
          "text": [
            "Eligible for discount\n"
          ]
        }
      ]
    },
    {
      "cell_type": "markdown",
      "source": [
        "##  2.11. Write a program that prints the first 10 even numbers using a for or while loop"
      ],
      "metadata": {
        "id": "5sH9MfcxK5e-"
      }
    },
    {
      "cell_type": "code",
      "source": [
        "# by using for loop\n",
        "for i in range(1,12):\n",
        "  if i%2==0:\n",
        "    print(f\"{i} is an even number\")"
      ],
      "metadata": {
        "colab": {
          "base_uri": "https://localhost:8080/"
        },
        "id": "HHuSoMX_K8Hq",
        "outputId": "dba9016a-f329-4813-dc7d-9bdcfa7913b7"
      },
      "execution_count": 28,
      "outputs": [
        {
          "output_type": "stream",
          "name": "stdout",
          "text": [
            "2 is an even number\n",
            "4 is an even number\n",
            "6 is an even number\n",
            "8 is an even number\n",
            "10 is an even number\n"
          ]
        }
      ]
    },
    {
      "cell_type": "markdown",
      "source": [
        "## 2.12. Write a program that prints a simple number pyramid pattern using nested loops."
      ],
      "metadata": {
        "id": "zwTULNQHLO2R"
      }
    },
    {
      "cell_type": "code",
      "source": [
        "number = int(input(\"Enter a number: \"))\n",
        "for i in range(1,number+1):\n",
        "  p = number-i\n",
        "  while(p):\n",
        "    print(\" \",end=\"\")\n",
        "    p-=1\n",
        "\n",
        "  q = 2*i-1\n",
        "  while(q):\n",
        "    print(\"*\",end=\"\")\n",
        "    q-=1\n",
        "  print()"
      ],
      "metadata": {
        "colab": {
          "base_uri": "https://localhost:8080/"
        },
        "id": "3CfVhVriLcdy",
        "outputId": "df9a0081-92e6-48eb-e805-2c09339f889e"
      },
      "execution_count": 31,
      "outputs": [
        {
          "output_type": "stream",
          "name": "stdout",
          "text": [
            "Enter a number: 6\n",
            "     *\n",
            "    ***\n",
            "   *****\n",
            "  *******\n",
            " *********\n",
            "***********\n"
          ]
        }
      ]
    },
    {
      "cell_type": "markdown",
      "source": [
        "# Functions"
      ],
      "metadata": {
        "id": "6h6rTfbdLlfz"
      }
    },
    {
      "cell_type": "markdown",
      "source": [
        "## 2.13. Create a function that converts temperature from Celsius to Fahrenheit using the formula: F = (C × 9/5) + 32\n"
      ],
      "metadata": {
        "id": "qJQfQGwxLrr2"
      }
    },
    {
      "cell_type": "code",
      "source": [
        "def celcius_to_fahrenheit(celcius):\n",
        "  fahrenheit = (celcius* 9/5)+32\n",
        "  return fahrenheit\n",
        "\n",
        "print(celcius_to_fahrenheit(38))"
      ],
      "metadata": {
        "colab": {
          "base_uri": "https://localhost:8080/"
        },
        "id": "TTnTOnmHLqyO",
        "outputId": "0376710a-0cdd-42dc-caa8-beeeaadbef86"
      },
      "execution_count": 34,
      "outputs": [
        {
          "output_type": "stream",
          "name": "stdout",
          "text": [
            "100.4\n"
          ]
        }
      ]
    },
    {
      "cell_type": "markdown",
      "source": [
        "## 2.14.  Create a function with default parameters that calculates the area of a rectangle"
      ],
      "metadata": {
        "id": "_eO8pU7zLynV"
      }
    },
    {
      "cell_type": "code",
      "source": [
        "def area(length=7,width=5):\n",
        "  return length*width\n",
        "\n",
        "print(area())\n",
        "print(area(10))\n",
        "print(area(length=9))\n",
        "print(area(width=7))\n",
        "print(area(10,20))"
      ],
      "metadata": {
        "colab": {
          "base_uri": "https://localhost:8080/"
        },
        "id": "3yGtWxeyL4kw",
        "outputId": "0b2f9951-44b2-4afb-cf19-ac40a973f430"
      },
      "execution_count": 37,
      "outputs": [
        {
          "output_type": "stream",
          "name": "stdout",
          "text": [
            "35\n",
            "50\n",
            "45\n",
            "49\n",
            "200\n"
          ]
        }
      ]
    }
  ]
}